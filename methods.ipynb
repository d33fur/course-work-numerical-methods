{
 "cells": [
  {
   "cell_type": "code",
   "execution_count": 10,
   "metadata": {},
   "outputs": [
    {
     "name": "stdout",
     "output_type": "stream",
     "text": [
      "Название метода Ответ Количество шагов Ошибка\n",
      "('Представленный метод', 455.05876231379233, 4782, -0.17984925221213643)\n"
     ]
    }
   ],
   "source": [
    "# авторский метод\n",
    "def Authors_method(f, y ,x ,h):\n",
    "    steps = 0\n",
    "    error = y\n",
    "    while x[0] < x[1]:\n",
    "        k1 = h * f(x[0], y)\n",
    "        k2 = h * f(x[0] + h / 2, y + k1 / 2)\n",
    "        k3 = h * f(x[0] + 3 * h / 4, y + 3 * k2 / 4)\n",
    "        #k4 = h * f(x[0] + h, y + k1 / 6 + k2 / 3 + k3 / 2)\n",
    "        \n",
    "        error = y\n",
    "        y += k1 / 6 + k2 / 3 + k3 / 2\n",
    "        error -= y\n",
    "        \n",
    "        h *= 0.08 * (abs(k1 / 18 - k3 / 18)) ** (-0.2)\n",
    "        \n",
    "        x[0] += h\n",
    "        steps += 1\n",
    "        \n",
    "    return \"Представленный метод\", y, steps, error\n",
    "\n",
    "def func(x, y):\n",
    "    return x * y + 4\n",
    "\n",
    "print(\"Название метода\", \"Ответ\", \"Количество шагов\", \"Ошибка\")\n",
    "print(Authors_method(func, 0, [0, 3], 0.01))\n",
    "  "
   ]
  }
 ],
 "metadata": {
  "kernelspec": {
   "display_name": "Python 3",
   "language": "python",
   "name": "python3"
  },
  "language_info": {
   "codemirror_mode": {
    "name": "ipython",
    "version": 3
   },
   "file_extension": ".py",
   "mimetype": "text/x-python",
   "name": "python",
   "nbconvert_exporter": "python",
   "pygments_lexer": "ipython3",
   "version": "3.11.6"
  }
 },
 "nbformat": 4,
 "nbformat_minor": 2
}
